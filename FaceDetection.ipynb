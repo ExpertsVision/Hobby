{
  "nbformat": 4,
  "nbformat_minor": 0,
  "metadata": {
    "colab": {
      "name": "FaceDetection.ipynb",
      "provenance": [],
      "collapsed_sections": [],
      "authorship_tag": "ABX9TyPW0uOB+Frrp89F5GSn/MQI",
      "include_colab_link": true
    },
    "kernelspec": {
      "name": "python3",
      "display_name": "Python 3"
    }
  },
  "cells": [
    {
      "cell_type": "markdown",
      "metadata": {
        "id": "view-in-github",
        "colab_type": "text"
      },
      "source": [
        "<a href=\"https://colab.research.google.com/github/ExpertsVision/Hobby/blob/master/FaceDetection.ipynb\" target=\"_parent\"><img src=\"https://colab.research.google.com/assets/colab-badge.svg\" alt=\"Open In Colab\"/></a>"
      ]
    },
    {
      "cell_type": "code",
      "metadata": {
        "id": "ORBp6Rgc6hiw",
        "colab_type": "code",
        "colab": {
          "base_uri": "https://localhost:8080/",
          "height": 35
        },
        "outputId": "4b2bd8c4-8561-4b2e-c222-5671eef060b4"
      },
      "source": [
        "\n",
        "# Import Packages\n",
        "from google.colab import drive\n",
        "import numpy as np\n",
        "import scipy.io\n",
        "import pandas as pd\n",
        "from datetime import datetime, timedelta\n",
        "import os\n",
        "import tensorflow as tf\n",
        "import keras\n",
        "from keras.preprocessing import image\n",
        "from keras.callbacks import ModelCheckpoint,EarlyStopping\n",
        "from keras.layers import Dense, Activation, Dropout, Flatten, Input, Convolution2D, ZeroPadding2D, MaxPooling2D, Activation\n",
        "from keras.layers import Conv2D, AveragePooling2D\n",
        "from keras.models import Model, Sequential\n",
        "from sklearn.model_selection import train_test_split\n",
        "from keras import metrics\n",
        "from keras.models import model_from_json\n",
        "import matplotlib.pyplot as plt\n",
        "import cv2\n",
        "from PIL import Image\n",
        "from keras.preprocessing.image import load_img, save_img, img_to_array, ImageDataGenerator\n",
        "from keras.applications.imagenet_utils import preprocess_input\n",
        "from os import listdir\n",
        "from glob import glob\n",
        "import math\n",
        "import shutil\n",
        "import re\n"
      ],
      "execution_count": 1,
      "outputs": [
        {
          "output_type": "stream",
          "text": [
            "Using TensorFlow backend.\n"
          ],
          "name": "stderr"
        }
      ]
    },
    {
      "cell_type": "markdown",
      "metadata": {
        "id": "u6F9cpCoPzpb",
        "colab_type": "text"
      },
      "source": [
        "**Downloading IMDB Dataset from Google Drive link**"
      ]
    },
    {
      "cell_type": "markdown",
      "metadata": {
        "id": "X9oE011AQCjj",
        "colab_type": "text"
      },
      "source": [
        "We are using Google drive sharable link from https://drive.google.com/uc?id=1-7vXBlCordEUBxZanZPWYXnfPpW-lzIV&export=download\n",
        "You can also download this file directly from original link i.e. https://data.vision.ee.ethz.ch/cvl/rrothe/imdb-wiki/static/imdb_crop.tar"
      ]
    },
    {
      "cell_type": "code",
      "metadata": {
        "id": "MsapJRa8RS0a",
        "colab_type": "code",
        "colab": {
          "base_uri": "https://localhost:8080/",
          "height": 90
        },
        "outputId": "f5b82b6e-c8f9-42a2-df2d-afcecfaca60f"
      },
      "source": [
        "!gdown --id 1-7vXBlCordEUBxZanZPWYXnfPpW-lzIV&export=download"
      ],
      "execution_count": 8,
      "outputs": [
        {
          "output_type": "stream",
          "text": [
            "Downloading...\n",
            "From: https://drive.google.com/uc?id=1-7vXBlCordEUBxZanZPWYXnfPpW-lzIV\n",
            "To: /content/imdb_crop.tar\n",
            "7.01GB [01:59, 58.6MB/s]\n"
          ],
          "name": "stdout"
        }
      ]
    },
    {
      "cell_type": "code",
      "metadata": {
        "id": "kD9H_0zoRW3b",
        "colab_type": "code",
        "colab": {}
      },
      "source": [
        "#Unzip imdb_crop.tar\n",
        "!tar -xf imdb_crop.tar"
      ],
      "execution_count": 10,
      "outputs": []
    },
    {
      "cell_type": "code",
      "metadata": {
        "id": "DXfPEbztXy6I",
        "colab_type": "code",
        "colab": {}
      },
      "source": [
        "mat = scipy.io.loadmat('/content/imdb_crop/imdb.mat')\n"
      ],
      "execution_count": 11,
      "outputs": []
    },
    {
      "cell_type": "code",
      "metadata": {
        "id": "WEzPv2UfYiNY",
        "colab_type": "code",
        "colab": {}
      },
      "source": [
        "try:\n",
        "  instances = mat['imdb'][0][0][0].shape[1]\n",
        "  \n",
        "  columns = [\"dob\", \"photo_taken\", \"full_path\", \"gender\", \"name\", \"face_location\", \"face_score\", \"second_face_score\"]\n",
        "  \n",
        "  df = pd.DataFrame(index = range(0,instances), columns = columns)\n",
        "  \n",
        "  for i in mat:\n",
        "    if i == \"imdb\":\n",
        "      current_array = mat[i][0][0]\n",
        "      for j in range(len(current_array)):\n",
        "        df[columns[j]] = pd.DataFrame(current_array[j][0])\n",
        "except:\n",
        "  pass"
      ],
      "execution_count": 19,
      "outputs": []
    },
    {
      "cell_type": "code",
      "metadata": {
        "id": "vs7nVO_EY1Sa",
        "colab_type": "code",
        "colab": {
          "base_uri": "https://localhost:8080/",
          "height": 383
        },
        "outputId": "0a2e9f7c-46c7-46df-c8ec-7ac5df38c810"
      },
      "source": [
        "df.head()"
      ],
      "execution_count": 20,
      "outputs": [
        {
          "output_type": "execute_result",
          "data": {
            "text/html": [
              "<div>\n",
              "<style scoped>\n",
              "    .dataframe tbody tr th:only-of-type {\n",
              "        vertical-align: middle;\n",
              "    }\n",
              "\n",
              "    .dataframe tbody tr th {\n",
              "        vertical-align: top;\n",
              "    }\n",
              "\n",
              "    .dataframe thead th {\n",
              "        text-align: right;\n",
              "    }\n",
              "</style>\n",
              "<table border=\"1\" class=\"dataframe\">\n",
              "  <thead>\n",
              "    <tr style=\"text-align: right;\">\n",
              "      <th></th>\n",
              "      <th>dob</th>\n",
              "      <th>photo_taken</th>\n",
              "      <th>full_path</th>\n",
              "      <th>gender</th>\n",
              "      <th>name</th>\n",
              "      <th>face_location</th>\n",
              "      <th>face_score</th>\n",
              "      <th>second_face_score</th>\n",
              "    </tr>\n",
              "  </thead>\n",
              "  <tbody>\n",
              "    <tr>\n",
              "      <th>0</th>\n",
              "      <td>693726</td>\n",
              "      <td>1968</td>\n",
              "      <td>[01/nm0000001_rm124825600_1899-5-10_1968.jpg]</td>\n",
              "      <td>1.0</td>\n",
              "      <td>[Fred Astaire]</td>\n",
              "      <td>[[1072.926, 161.838, 1214.7839999999999, 303.6...</td>\n",
              "      <td>1.459693</td>\n",
              "      <td>1.118973</td>\n",
              "    </tr>\n",
              "    <tr>\n",
              "      <th>1</th>\n",
              "      <td>693726</td>\n",
              "      <td>1970</td>\n",
              "      <td>[01/nm0000001_rm3343756032_1899-5-10_1970.jpg]</td>\n",
              "      <td>1.0</td>\n",
              "      <td>[Fred Astaire]</td>\n",
              "      <td>[[477.184, 100.352, 622.592, 245.76]]</td>\n",
              "      <td>2.543198</td>\n",
              "      <td>1.852008</td>\n",
              "    </tr>\n",
              "    <tr>\n",
              "      <th>2</th>\n",
              "      <td>693726</td>\n",
              "      <td>1968</td>\n",
              "      <td>[01/nm0000001_rm577153792_1899-5-10_1968.jpg]</td>\n",
              "      <td>1.0</td>\n",
              "      <td>[Fred Astaire]</td>\n",
              "      <td>[[114.96964308962852, 114.96964308962852, 451....</td>\n",
              "      <td>3.455579</td>\n",
              "      <td>2.985660</td>\n",
              "    </tr>\n",
              "    <tr>\n",
              "      <th>3</th>\n",
              "      <td>693726</td>\n",
              "      <td>1968</td>\n",
              "      <td>[01/nm0000001_rm946909184_1899-5-10_1968.jpg]</td>\n",
              "      <td>1.0</td>\n",
              "      <td>[Fred Astaire]</td>\n",
              "      <td>[[622.8855056426588, 424.21750383700805, 844.3...</td>\n",
              "      <td>1.872117</td>\n",
              "      <td>NaN</td>\n",
              "    </tr>\n",
              "    <tr>\n",
              "      <th>4</th>\n",
              "      <td>693726</td>\n",
              "      <td>1968</td>\n",
              "      <td>[01/nm0000001_rm980463616_1899-5-10_1968.jpg]</td>\n",
              "      <td>1.0</td>\n",
              "      <td>[Fred Astaire]</td>\n",
              "      <td>[[1013.8590023603723, 233.8820422075853, 1201....</td>\n",
              "      <td>1.158766</td>\n",
              "      <td>NaN</td>\n",
              "    </tr>\n",
              "  </tbody>\n",
              "</table>\n",
              "</div>"
            ],
            "text/plain": [
              "      dob  photo_taken  ... face_score  second_face_score\n",
              "0  693726         1968  ...   1.459693           1.118973\n",
              "1  693726         1970  ...   2.543198           1.852008\n",
              "2  693726         1968  ...   3.455579           2.985660\n",
              "3  693726         1968  ...   1.872117                NaN\n",
              "4  693726         1968  ...   1.158766                NaN\n",
              "\n",
              "[5 rows x 8 columns]"
            ]
          },
          "metadata": {
            "tags": []
          },
          "execution_count": 20
        }
      ]
    },
    {
      "cell_type": "code",
      "metadata": {
        "id": "lz1cF-9tY2uG",
        "colab_type": "code",
        "colab": {
          "base_uri": "https://localhost:8080/",
          "height": 300
        },
        "outputId": "261226a6-6ebb-4d63-c7d9-480ad8b38394"
      },
      "source": [
        "df.describe()"
      ],
      "execution_count": 21,
      "outputs": [
        {
          "output_type": "execute_result",
          "data": {
            "text/html": [
              "<div>\n",
              "<style scoped>\n",
              "    .dataframe tbody tr th:only-of-type {\n",
              "        vertical-align: middle;\n",
              "    }\n",
              "\n",
              "    .dataframe tbody tr th {\n",
              "        vertical-align: top;\n",
              "    }\n",
              "\n",
              "    .dataframe thead th {\n",
              "        text-align: right;\n",
              "    }\n",
              "</style>\n",
              "<table border=\"1\" class=\"dataframe\">\n",
              "  <thead>\n",
              "    <tr style=\"text-align: right;\">\n",
              "      <th></th>\n",
              "      <th>dob</th>\n",
              "      <th>photo_taken</th>\n",
              "      <th>gender</th>\n",
              "      <th>face_score</th>\n",
              "      <th>second_face_score</th>\n",
              "    </tr>\n",
              "  </thead>\n",
              "  <tbody>\n",
              "    <tr>\n",
              "      <th>count</th>\n",
              "      <td>460723.000000</td>\n",
              "      <td>460723.000000</td>\n",
              "      <td>452261.000000</td>\n",
              "      <td>4.607230e+05</td>\n",
              "      <td>213797.000000</td>\n",
              "    </tr>\n",
              "    <tr>\n",
              "      <th>mean</th>\n",
              "      <td>718987.731774</td>\n",
              "      <td>2005.461555</td>\n",
              "      <td>0.581996</td>\n",
              "      <td>-inf</td>\n",
              "      <td>2.452904</td>\n",
              "    </tr>\n",
              "    <tr>\n",
              "      <th>std</th>\n",
              "      <td>13253.963535</td>\n",
              "      <td>9.054475</td>\n",
              "      <td>0.493231</td>\n",
              "      <td>NaN</td>\n",
              "      <td>1.064432</td>\n",
              "    </tr>\n",
              "    <tr>\n",
              "      <th>min</th>\n",
              "      <td>47.000000</td>\n",
              "      <td>1961.000000</td>\n",
              "      <td>0.000000</td>\n",
              "      <td>-inf</td>\n",
              "      <td>0.730926</td>\n",
              "    </tr>\n",
              "    <tr>\n",
              "      <th>25%</th>\n",
              "      <td>716370.000000</td>\n",
              "      <td>2004.000000</td>\n",
              "      <td>0.000000</td>\n",
              "      <td>1.757891e+00</td>\n",
              "      <td>1.583692</td>\n",
              "    </tr>\n",
              "    <tr>\n",
              "      <th>50%</th>\n",
              "      <td>719935.000000</td>\n",
              "      <td>2008.000000</td>\n",
              "      <td>1.000000</td>\n",
              "      <td>2.980097e+00</td>\n",
              "      <td>2.355163</td>\n",
              "    </tr>\n",
              "    <tr>\n",
              "      <th>75%</th>\n",
              "      <td>723073.000000</td>\n",
              "      <td>2011.000000</td>\n",
              "      <td>1.000000</td>\n",
              "      <td>4.006376e+00</td>\n",
              "      <td>3.228071</td>\n",
              "    </tr>\n",
              "    <tr>\n",
              "      <th>max</th>\n",
              "      <td>734963.000000</td>\n",
              "      <td>2015.000000</td>\n",
              "      <td>1.000000</td>\n",
              "      <td>7.381689e+00</td>\n",
              "      <td>6.395435</td>\n",
              "    </tr>\n",
              "  </tbody>\n",
              "</table>\n",
              "</div>"
            ],
            "text/plain": [
              "                 dob    photo_taken  ...    face_score  second_face_score\n",
              "count  460723.000000  460723.000000  ...  4.607230e+05      213797.000000\n",
              "mean   718987.731774    2005.461555  ...          -inf           2.452904\n",
              "std     13253.963535       9.054475  ...           NaN           1.064432\n",
              "min        47.000000    1961.000000  ...          -inf           0.730926\n",
              "25%    716370.000000    2004.000000  ...  1.757891e+00           1.583692\n",
              "50%    719935.000000    2008.000000  ...  2.980097e+00           2.355163\n",
              "75%    723073.000000    2011.000000  ...  4.006376e+00           3.228071\n",
              "max    734963.000000    2015.000000  ...  7.381689e+00           6.395435\n",
              "\n",
              "[8 rows x 5 columns]"
            ]
          },
          "metadata": {
            "tags": []
          },
          "execution_count": 21
        }
      ]
    },
    {
      "cell_type": "code",
      "metadata": {
        "id": "93KwRSSUY5Ua",
        "colab_type": "code",
        "colab": {
          "base_uri": "https://localhost:8080/",
          "height": 348
        },
        "outputId": "d088e810-512b-4a6a-821c-9d8fa725b577"
      },
      "source": [
        "df.tail()"
      ],
      "execution_count": 15,
      "outputs": [
        {
          "output_type": "execute_result",
          "data": {
            "text/html": [
              "<div>\n",
              "<style scoped>\n",
              "    .dataframe tbody tr th:only-of-type {\n",
              "        vertical-align: middle;\n",
              "    }\n",
              "\n",
              "    .dataframe tbody tr th {\n",
              "        vertical-align: top;\n",
              "    }\n",
              "\n",
              "    .dataframe thead th {\n",
              "        text-align: right;\n",
              "    }\n",
              "</style>\n",
              "<table border=\"1\" class=\"dataframe\">\n",
              "  <thead>\n",
              "    <tr style=\"text-align: right;\">\n",
              "      <th></th>\n",
              "      <th>dob</th>\n",
              "      <th>photo_taken</th>\n",
              "      <th>full_path</th>\n",
              "      <th>gender</th>\n",
              "      <th>name</th>\n",
              "      <th>face_location</th>\n",
              "      <th>face_score</th>\n",
              "      <th>second_face_score</th>\n",
              "    </tr>\n",
              "  </thead>\n",
              "  <tbody>\n",
              "    <tr>\n",
              "      <th>460718</th>\n",
              "      <td>726831</td>\n",
              "      <td>2011</td>\n",
              "      <td>[08/nm3994408_rm761245696_1989-12-29_2011.jpg]</td>\n",
              "      <td>0.0</td>\n",
              "      <td>[Jane Levy]</td>\n",
              "      <td>[[453.8981431333457, 77.96623712908011, 539.79...</td>\n",
              "      <td>3.845884</td>\n",
              "      <td>NaN</td>\n",
              "    </tr>\n",
              "    <tr>\n",
              "      <th>460719</th>\n",
              "      <td>726831</td>\n",
              "      <td>2011</td>\n",
              "      <td>[08/nm3994408_rm784182528_1989-12-29_2011.jpg]</td>\n",
              "      <td>0.0</td>\n",
              "      <td>[Jane Levy]</td>\n",
              "      <td>[[1, 1, 426, 640]]</td>\n",
              "      <td>-inf</td>\n",
              "      <td>NaN</td>\n",
              "    </tr>\n",
              "    <tr>\n",
              "      <th>460720</th>\n",
              "      <td>726831</td>\n",
              "      <td>2011</td>\n",
              "      <td>[08/nm3994408_rm926592512_1989-12-29_2011.jpg]</td>\n",
              "      <td>0.0</td>\n",
              "      <td>[Jane Levy]</td>\n",
              "      <td>[[1, 1, 453, 640]]</td>\n",
              "      <td>-inf</td>\n",
              "      <td>NaN</td>\n",
              "    </tr>\n",
              "    <tr>\n",
              "      <th>460721</th>\n",
              "      <td>726831</td>\n",
              "      <td>2011</td>\n",
              "      <td>[08/nm3994408_rm943369728_1989-12-29_2011.jpg]</td>\n",
              "      <td>0.0</td>\n",
              "      <td>[Jane Levy]</td>\n",
              "      <td>[[144.75225471724875, 126.76472287759263, 305....</td>\n",
              "      <td>4.450725</td>\n",
              "      <td>NaN</td>\n",
              "    </tr>\n",
              "    <tr>\n",
              "      <th>460722</th>\n",
              "      <td>726831</td>\n",
              "      <td>2011</td>\n",
              "      <td>[08/nm3994408_rm976924160_1989-12-29_2011.jpg]</td>\n",
              "      <td>0.0</td>\n",
              "      <td>[Jane Levy]</td>\n",
              "      <td>[[457.524, 41.748, 518.016, 102.24]]</td>\n",
              "      <td>2.133503</td>\n",
              "      <td>NaN</td>\n",
              "    </tr>\n",
              "  </tbody>\n",
              "</table>\n",
              "</div>"
            ],
            "text/plain": [
              "           dob  photo_taken  ... face_score  second_face_score\n",
              "460718  726831         2011  ...   3.845884                NaN\n",
              "460719  726831         2011  ...       -inf                NaN\n",
              "460720  726831         2011  ...       -inf                NaN\n",
              "460721  726831         2011  ...   4.450725                NaN\n",
              "460722  726831         2011  ...   2.133503                NaN\n",
              "\n",
              "[5 rows x 8 columns]"
            ]
          },
          "metadata": {
            "tags": []
          },
          "execution_count": 15
        }
      ]
    },
    {
      "cell_type": "code",
      "metadata": {
        "id": "voHzuw4sZDF6",
        "colab_type": "code",
        "colab": {
          "base_uri": "https://localhost:8080/",
          "height": 300
        },
        "outputId": "e9e4b56c-739c-49c4-a897-994ecf0a4222"
      },
      "source": [
        "#remove pictures does not include face\n",
        "df = df[df['face_score'] != -np.inf]\n",
        "df.describe()"
      ],
      "execution_count": 22,
      "outputs": [
        {
          "output_type": "execute_result",
          "data": {
            "text/html": [
              "<div>\n",
              "<style scoped>\n",
              "    .dataframe tbody tr th:only-of-type {\n",
              "        vertical-align: middle;\n",
              "    }\n",
              "\n",
              "    .dataframe tbody tr th {\n",
              "        vertical-align: top;\n",
              "    }\n",
              "\n",
              "    .dataframe thead th {\n",
              "        text-align: right;\n",
              "    }\n",
              "</style>\n",
              "<table border=\"1\" class=\"dataframe\">\n",
              "  <thead>\n",
              "    <tr style=\"text-align: right;\">\n",
              "      <th></th>\n",
              "      <th>dob</th>\n",
              "      <th>photo_taken</th>\n",
              "      <th>gender</th>\n",
              "      <th>face_score</th>\n",
              "      <th>second_face_score</th>\n",
              "    </tr>\n",
              "  </thead>\n",
              "  <tbody>\n",
              "    <tr>\n",
              "      <th>count</th>\n",
              "      <td>398421.000000</td>\n",
              "      <td>398421.000000</td>\n",
              "      <td>391197.000000</td>\n",
              "      <td>398421.000000</td>\n",
              "      <td>213797.000000</td>\n",
              "    </tr>\n",
              "    <tr>\n",
              "      <th>mean</th>\n",
              "      <td>718924.008915</td>\n",
              "      <td>2005.430873</td>\n",
              "      <td>0.572279</td>\n",
              "      <td>3.243474</td>\n",
              "      <td>2.452904</td>\n",
              "    </tr>\n",
              "    <tr>\n",
              "      <th>std</th>\n",
              "      <td>13177.362305</td>\n",
              "      <td>9.083973</td>\n",
              "      <td>0.494749</td>\n",
              "      <td>1.222315</td>\n",
              "      <td>1.064432</td>\n",
              "    </tr>\n",
              "    <tr>\n",
              "      <th>min</th>\n",
              "      <td>47.000000</td>\n",
              "      <td>1961.000000</td>\n",
              "      <td>0.000000</td>\n",
              "      <td>0.730919</td>\n",
              "      <td>0.730926</td>\n",
              "    </tr>\n",
              "    <tr>\n",
              "      <th>25%</th>\n",
              "      <td>716333.000000</td>\n",
              "      <td>2004.000000</td>\n",
              "      <td>0.000000</td>\n",
              "      <td>2.325559</td>\n",
              "      <td>1.583692</td>\n",
              "    </tr>\n",
              "    <tr>\n",
              "      <th>50%</th>\n",
              "      <td>719863.000000</td>\n",
              "      <td>2008.000000</td>\n",
              "      <td>1.000000</td>\n",
              "      <td>3.254706</td>\n",
              "      <td>2.355163</td>\n",
              "    </tr>\n",
              "    <tr>\n",
              "      <th>75%</th>\n",
              "      <td>722991.000000</td>\n",
              "      <td>2011.000000</td>\n",
              "      <td>1.000000</td>\n",
              "      <td>4.160408</td>\n",
              "      <td>3.228071</td>\n",
              "    </tr>\n",
              "    <tr>\n",
              "      <th>max</th>\n",
              "      <td>734181.000000</td>\n",
              "      <td>2015.000000</td>\n",
              "      <td>1.000000</td>\n",
              "      <td>7.381689</td>\n",
              "      <td>6.395435</td>\n",
              "    </tr>\n",
              "  </tbody>\n",
              "</table>\n",
              "</div>"
            ],
            "text/plain": [
              "                 dob    photo_taken  ...     face_score  second_face_score\n",
              "count  398421.000000  398421.000000  ...  398421.000000      213797.000000\n",
              "mean   718924.008915    2005.430873  ...       3.243474           2.452904\n",
              "std     13177.362305       9.083973  ...       1.222315           1.064432\n",
              "min        47.000000    1961.000000  ...       0.730919           0.730926\n",
              "25%    716333.000000    2004.000000  ...       2.325559           1.583692\n",
              "50%    719863.000000    2008.000000  ...       3.254706           2.355163\n",
              "75%    722991.000000    2011.000000  ...       4.160408           3.228071\n",
              "max    734181.000000    2015.000000  ...       7.381689           6.395435\n",
              "\n",
              "[8 rows x 5 columns]"
            ]
          },
          "metadata": {
            "tags": []
          },
          "execution_count": 22
        }
      ]
    },
    {
      "cell_type": "code",
      "metadata": {
        "id": "BGp732a2ZJtD",
        "colab_type": "code",
        "colab": {
          "base_uri": "https://localhost:8080/",
          "height": 300
        },
        "outputId": "48347eef-3563-4eae-f1c3-2f3d5a6bd8b5"
      },
      "source": [
        "# Only consider images in which there is no 2nd face, i.e second_face_score is nan\n",
        "df = df[df['second_face_score'].isna()]\n",
        "df.describe()"
      ],
      "execution_count": 23,
      "outputs": [
        {
          "output_type": "execute_result",
          "data": {
            "text/html": [
              "<div>\n",
              "<style scoped>\n",
              "    .dataframe tbody tr th:only-of-type {\n",
              "        vertical-align: middle;\n",
              "    }\n",
              "\n",
              "    .dataframe tbody tr th {\n",
              "        vertical-align: top;\n",
              "    }\n",
              "\n",
              "    .dataframe thead th {\n",
              "        text-align: right;\n",
              "    }\n",
              "</style>\n",
              "<table border=\"1\" class=\"dataframe\">\n",
              "  <thead>\n",
              "    <tr style=\"text-align: right;\">\n",
              "      <th></th>\n",
              "      <th>dob</th>\n",
              "      <th>photo_taken</th>\n",
              "      <th>gender</th>\n",
              "      <th>face_score</th>\n",
              "      <th>second_face_score</th>\n",
              "    </tr>\n",
              "  </thead>\n",
              "  <tbody>\n",
              "    <tr>\n",
              "      <th>count</th>\n",
              "      <td>184624.000000</td>\n",
              "      <td>184624.000000</td>\n",
              "      <td>181690.000000</td>\n",
              "      <td>184624.000000</td>\n",
              "      <td>0.0</td>\n",
              "    </tr>\n",
              "    <tr>\n",
              "      <th>mean</th>\n",
              "      <td>719075.218785</td>\n",
              "      <td>2005.815322</td>\n",
              "      <td>0.550399</td>\n",
              "      <td>3.094982</td>\n",
              "      <td>NaN</td>\n",
              "    </tr>\n",
              "    <tr>\n",
              "      <th>std</th>\n",
              "      <td>13659.317612</td>\n",
              "      <td>8.515250</td>\n",
              "      <td>0.497455</td>\n",
              "      <td>1.362412</td>\n",
              "      <td>NaN</td>\n",
              "    </tr>\n",
              "    <tr>\n",
              "      <th>min</th>\n",
              "      <td>75.000000</td>\n",
              "      <td>1961.000000</td>\n",
              "      <td>0.000000</td>\n",
              "      <td>0.730919</td>\n",
              "      <td>NaN</td>\n",
              "    </tr>\n",
              "    <tr>\n",
              "      <th>25%</th>\n",
              "      <td>716509.000000</td>\n",
              "      <td>2004.000000</td>\n",
              "      <td>0.000000</td>\n",
              "      <td>1.960643</td>\n",
              "      <td>NaN</td>\n",
              "    </tr>\n",
              "    <tr>\n",
              "      <th>50%</th>\n",
              "      <td>720002.000000</td>\n",
              "      <td>2008.000000</td>\n",
              "      <td>1.000000</td>\n",
              "      <td>3.067435</td>\n",
              "      <td>NaN</td>\n",
              "    </tr>\n",
              "    <tr>\n",
              "      <th>75%</th>\n",
              "      <td>723097.000000</td>\n",
              "      <td>2011.000000</td>\n",
              "      <td>1.000000</td>\n",
              "      <td>4.175454</td>\n",
              "      <td>NaN</td>\n",
              "    </tr>\n",
              "    <tr>\n",
              "      <th>max</th>\n",
              "      <td>734181.000000</td>\n",
              "      <td>2015.000000</td>\n",
              "      <td>1.000000</td>\n",
              "      <td>7.381689</td>\n",
              "      <td>NaN</td>\n",
              "    </tr>\n",
              "  </tbody>\n",
              "</table>\n",
              "</div>"
            ],
            "text/plain": [
              "                 dob    photo_taken  ...     face_score  second_face_score\n",
              "count  184624.000000  184624.000000  ...  184624.000000                0.0\n",
              "mean   719075.218785    2005.815322  ...       3.094982                NaN\n",
              "std     13659.317612       8.515250  ...       1.362412                NaN\n",
              "min        75.000000    1961.000000  ...       0.730919                NaN\n",
              "25%    716509.000000    2004.000000  ...       1.960643                NaN\n",
              "50%    720002.000000    2008.000000  ...       3.067435                NaN\n",
              "75%    723097.000000    2011.000000  ...       4.175454                NaN\n",
              "max    734181.000000    2015.000000  ...       7.381689                NaN\n",
              "\n",
              "[8 rows x 5 columns]"
            ]
          },
          "metadata": {
            "tags": []
          },
          "execution_count": 23
        }
      ]
    },
    {
      "cell_type": "code",
      "metadata": {
        "id": "L37AJiWkZRcJ",
        "colab_type": "code",
        "colab": {
          "base_uri": "https://localhost:8080/",
          "height": 300
        },
        "outputId": "1de824d7-1be9-424a-bda2-a454a9c386b6"
      },
      "source": [
        "# Only select pictures where face_score >3\n",
        "df = df[df['face_score'] >= 3]\n",
        "df.describe()"
      ],
      "execution_count": 24,
      "outputs": [
        {
          "output_type": "execute_result",
          "data": {
            "text/html": [
              "<div>\n",
              "<style scoped>\n",
              "    .dataframe tbody tr th:only-of-type {\n",
              "        vertical-align: middle;\n",
              "    }\n",
              "\n",
              "    .dataframe tbody tr th {\n",
              "        vertical-align: top;\n",
              "    }\n",
              "\n",
              "    .dataframe thead th {\n",
              "        text-align: right;\n",
              "    }\n",
              "</style>\n",
              "<table border=\"1\" class=\"dataframe\">\n",
              "  <thead>\n",
              "    <tr style=\"text-align: right;\">\n",
              "      <th></th>\n",
              "      <th>dob</th>\n",
              "      <th>photo_taken</th>\n",
              "      <th>gender</th>\n",
              "      <th>face_score</th>\n",
              "      <th>second_face_score</th>\n",
              "    </tr>\n",
              "  </thead>\n",
              "  <tbody>\n",
              "    <tr>\n",
              "      <th>count</th>\n",
              "      <td>95234.000000</td>\n",
              "      <td>95234.000000</td>\n",
              "      <td>93526.000000</td>\n",
              "      <td>95234.000000</td>\n",
              "      <td>0.0</td>\n",
              "    </tr>\n",
              "    <tr>\n",
              "      <th>mean</th>\n",
              "      <td>719600.493794</td>\n",
              "      <td>2006.359504</td>\n",
              "      <td>0.485961</td>\n",
              "      <td>4.213789</td>\n",
              "      <td>NaN</td>\n",
              "    </tr>\n",
              "    <tr>\n",
              "      <th>std</th>\n",
              "      <td>12963.520343</td>\n",
              "      <td>7.696399</td>\n",
              "      <td>0.499806</td>\n",
              "      <td>0.782275</td>\n",
              "      <td>NaN</td>\n",
              "    </tr>\n",
              "    <tr>\n",
              "      <th>min</th>\n",
              "      <td>75.000000</td>\n",
              "      <td>1961.000000</td>\n",
              "      <td>0.000000</td>\n",
              "      <td>3.000004</td>\n",
              "      <td>NaN</td>\n",
              "    </tr>\n",
              "    <tr>\n",
              "      <th>25%</th>\n",
              "      <td>717169.750000</td>\n",
              "      <td>2004.000000</td>\n",
              "      <td>0.000000</td>\n",
              "      <td>3.556245</td>\n",
              "      <td>NaN</td>\n",
              "    </tr>\n",
              "    <tr>\n",
              "      <th>50%</th>\n",
              "      <td>720426.000000</td>\n",
              "      <td>2008.000000</td>\n",
              "      <td>0.000000</td>\n",
              "      <td>4.137897</td>\n",
              "      <td>NaN</td>\n",
              "    </tr>\n",
              "    <tr>\n",
              "      <th>75%</th>\n",
              "      <td>723383.000000</td>\n",
              "      <td>2011.000000</td>\n",
              "      <td>1.000000</td>\n",
              "      <td>4.787703</td>\n",
              "      <td>NaN</td>\n",
              "    </tr>\n",
              "    <tr>\n",
              "      <th>max</th>\n",
              "      <td>733282.000000</td>\n",
              "      <td>2015.000000</td>\n",
              "      <td>1.000000</td>\n",
              "      <td>7.381689</td>\n",
              "      <td>NaN</td>\n",
              "    </tr>\n",
              "  </tbody>\n",
              "</table>\n",
              "</div>"
            ],
            "text/plain": [
              "                 dob   photo_taken  ...    face_score  second_face_score\n",
              "count   95234.000000  95234.000000  ...  95234.000000                0.0\n",
              "mean   719600.493794   2006.359504  ...      4.213789                NaN\n",
              "std     12963.520343      7.696399  ...      0.782275                NaN\n",
              "min        75.000000   1961.000000  ...      3.000004                NaN\n",
              "25%    717169.750000   2004.000000  ...      3.556245                NaN\n",
              "50%    720426.000000   2008.000000  ...      4.137897                NaN\n",
              "75%    723383.000000   2011.000000  ...      4.787703                NaN\n",
              "max    733282.000000   2015.000000  ...      7.381689                NaN\n",
              "\n",
              "[8 rows x 5 columns]"
            ]
          },
          "metadata": {
            "tags": []
          },
          "execution_count": 24
        }
      ]
    },
    {
      "cell_type": "markdown",
      "metadata": {
        "id": "UjvsZrIVm0cs",
        "colab_type": "text"
      },
      "source": [
        "**Copying filtered images in another folder**"
      ]
    },
    {
      "cell_type": "code",
      "metadata": {
        "id": "9VughBOTa6Vi",
        "colab_type": "code",
        "colab": {}
      },
      "source": [
        "# Creating folder to save preprocessed data\n",
        "directory= '/content/filtered_dataset/'\n",
        "try:\n",
        "  os.makedirs(directory)\n",
        "except OSError:\n",
        "  pass"
      ],
      "execution_count": 26,
      "outputs": []
    },
    {
      "cell_type": "code",
      "metadata": {
        "id": "928Tv-aGhxSM",
        "colab_type": "code",
        "colab": {}
      },
      "source": [
        "for i in range(df.shape[0]):\n",
        "  image_path = '/content/imdb_crop/%s'%df.iloc[i,2][0]\n",
        "  # Here we are only taking path of images whose names are in our fitlered df\n",
        "  shutil.copy(image_path, directory)  # copying filtered images to directory"
      ],
      "execution_count": 44,
      "outputs": []
    },
    {
      "cell_type": "markdown",
      "metadata": {
        "id": "auUISYK3w7PK",
        "colab_type": "text"
      },
      "source": [
        "**Face Cropping using MTCNN**"
      ]
    },
    {
      "cell_type": "code",
      "metadata": {
        "id": "le54zYN-wqmI",
        "colab_type": "code",
        "colab": {
          "base_uri": "https://localhost:8080/",
          "height": 294
        },
        "outputId": "a3d7d97c-1d94-4100-e182-563381d81d09"
      },
      "source": [
        "!pip install mtcnn"
      ],
      "execution_count": 59,
      "outputs": [
        {
          "output_type": "stream",
          "text": [
            "Collecting mtcnn\n",
            "\u001b[?25l  Downloading https://files.pythonhosted.org/packages/67/43/abee91792797c609c1bf30f1112117f7a87a713ebaa6ec5201d5555a73ef/mtcnn-0.1.0-py3-none-any.whl (2.3MB)\n",
            "\u001b[K     |████████████████████████████████| 2.3MB 2.8MB/s \n",
            "\u001b[?25hRequirement already satisfied: opencv-python>=4.1.0 in /usr/local/lib/python3.6/dist-packages (from mtcnn) (4.1.2.30)\n",
            "Requirement already satisfied: keras>=2.0.0 in /usr/local/lib/python3.6/dist-packages (from mtcnn) (2.3.1)\n",
            "Requirement already satisfied: numpy>=1.11.3 in /usr/local/lib/python3.6/dist-packages (from opencv-python>=4.1.0->mtcnn) (1.18.5)\n",
            "Requirement already satisfied: six>=1.9.0 in /usr/local/lib/python3.6/dist-packages (from keras>=2.0.0->mtcnn) (1.12.0)\n",
            "Requirement already satisfied: scipy>=0.14 in /usr/local/lib/python3.6/dist-packages (from keras>=2.0.0->mtcnn) (1.4.1)\n",
            "Requirement already satisfied: pyyaml in /usr/local/lib/python3.6/dist-packages (from keras>=2.0.0->mtcnn) (3.13)\n",
            "Requirement already satisfied: keras-preprocessing>=1.0.5 in /usr/local/lib/python3.6/dist-packages (from keras>=2.0.0->mtcnn) (1.1.2)\n",
            "Requirement already satisfied: keras-applications>=1.0.6 in /usr/local/lib/python3.6/dist-packages (from keras>=2.0.0->mtcnn) (1.0.8)\n",
            "Requirement already satisfied: h5py in /usr/local/lib/python3.6/dist-packages (from keras>=2.0.0->mtcnn) (2.10.0)\n",
            "Installing collected packages: mtcnn\n",
            "Successfully installed mtcnn-0.1.0\n"
          ],
          "name": "stdout"
        }
      ]
    },
    {
      "cell_type": "code",
      "metadata": {
        "id": "MLLqw2Hkwa9p",
        "colab_type": "code",
        "colab": {}
      },
      "source": [
        "from PIL import Image\n",
        "from numpy import asarray\n",
        "from mtcnn.mtcnn import MTCNN\n",
        "import cv2\n",
        "from imutils import paths  \n",
        "import numpy as np\n",
        "import os, errno"
      ],
      "execution_count": 60,
      "outputs": []
    },
    {
      "cell_type": "code",
      "metadata": {
        "id": "3Kf8FoHYwfbv",
        "colab_type": "code",
        "colab": {}
      },
      "source": [
        "detector=MTCNN()"
      ],
      "execution_count": 62,
      "outputs": []
    },
    {
      "cell_type": "code",
      "metadata": {
        "id": "SGF68kfWw1dK",
        "colab_type": "code",
        "colab": {}
      },
      "source": [
        "def extract_face(filename, required_size=(160, 160)):\n",
        "\timg=cv2.imread(filename)\n",
        "\tpixels = np.array(img)\n",
        "\t# pixels = np.array(img)\n",
        "\n",
        "\tresults = detector.detect_faces(pixels)\n",
        "\ttry:\n",
        "\t\t   if results[0]['confidence']>0.60:\n",
        "        \t\tx1, y1, width, height = results[0]['box']\n",
        "        \t# bug fix\n",
        "        \t\tx1, y1 = abs(x1), abs(y1)\n",
        "        \t\tx2, y2 = x1 + width, y1 + height\n",
        "        \t\tface = img[y1:y2, x1:x2]\n",
        "        \t# image = Image.fromarray(face)\n",
        "        \t# face_array = asarray(image)\n",
        "        \t\treturn face\n",
        "\texcept:\n",
        "\t\t\tpass\n",
        "\t\t\treturn[]"
      ],
      "execution_count": 65,
      "outputs": []
    },
    {
      "cell_type": "code",
      "metadata": {
        "id": "7eOwP9kFxMcO",
        "colab_type": "code",
        "colab": {
          "base_uri": "https://localhost:8080/",
          "height": 74
        },
        "outputId": "4fb64470-97fd-4601-f826-e2e5099488aa"
      },
      "source": [
        "folders=list(paths.list_images('/content/filtered_dataset')) #path of images folder\n",
        "count=0\n",
        "crop='crop'\n",
        "for i,filename in enumerate(folders):\n",
        "    folder = filename.split(os.path.sep)[-2].split(\".\")[0]\n",
        "    imageName = filename.split(os.path.sep)[-1].split(\".\")[0]\n",
        "    #print(folder)\n",
        "    try:\n",
        "        os.makedirs(crop+'/'+folder)\n",
        "    except OSError as e:\n",
        "        if e.errno != errno.EEXIST:\n",
        "            raise\n",
        "    folder_path=crop+'/'+folder\t\t\t\t\t\t\n",
        "    face=extract_face(filename)\n",
        "    try:\n",
        "\t\t\t\t\tif(face!=[]):\n",
        "\t\t\t\t\t\t\tcount=count+1\n",
        "\t\t\t\t\t\t\tpathwrite=folder_path+'/'+imageName+'crop'+str(count)+'.jpg'\n",
        "\t\t\t\t\t\t\tcv2.imwrite(pathwrite,face)\n",
        "\t\t\t\t\t\t\t#print('write',pathwrite)\n",
        "    except:\n",
        "\t\t\t\t\tpass        "
      ],
      "execution_count": null,
      "outputs": [
        {
          "output_type": "stream",
          "text": [
            "/usr/local/lib/python3.6/dist-packages/ipykernel_launcher.py:16: DeprecationWarning: elementwise comparison failed; this will raise an error in the future.\n",
            "  app.launch_new_instance()\n"
          ],
          "name": "stderr"
        }
      ]
    },
    {
      "cell_type": "code",
      "metadata": {
        "id": "Hd8jPBreycPm",
        "colab_type": "code",
        "colab": {}
      },
      "source": [
        ""
      ],
      "execution_count": null,
      "outputs": []
    }
  ]
}